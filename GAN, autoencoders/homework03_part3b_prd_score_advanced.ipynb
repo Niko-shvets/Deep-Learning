{
 "cells": [
  {
   "cell_type": "markdown",
   "metadata": {
    "colab_type": "text",
    "id": "2QDdJAnjbCrc"
   },
   "source": [
    "Original paper: https://arxiv.org/abs/1806.00035"
   ]
  },
  {
   "cell_type": "markdown",
   "metadata": {
    "colab_type": "text",
    "id": "y2Ri_gVxbCre"
   },
   "source": [
    "# 0. Read real and generated images#"
   ]
  },
  {
   "cell_type": "code",
   "execution_count": 56,
   "metadata": {
    "colab": {
     "base_uri": "https://localhost:8080/",
     "height": 34
    },
    "colab_type": "code",
    "executionInfo": {
     "elapsed": 716,
     "status": "ok",
     "timestamp": 1556562360835,
     "user": {
      "displayName": "Николай Швецов",
      "photoUrl": "",
      "userId": "02626889693123806486"
     },
     "user_tz": -180
    },
    "id": "wq2YdIOqf_x0",
    "outputId": "6d2dcf0a-0e24-4b3b-c5c4-34fd35e377c0"
   },
   "outputs": [
    {
     "name": "stdout",
     "output_type": "stream",
     "text": [
      "Drive already mounted at /content/gdrive; to attempt to forcibly remount, call drive.mount(\"/content/gdrive\", force_remount=True).\n"
     ]
    }
   ],
   "source": [
    "from google.colab import drive\n",
    "drive.mount('/content/gdrive')"
   ]
  },
  {
   "cell_type": "code",
   "execution_count": 57,
   "metadata": {
    "colab": {
     "base_uri": "https://localhost:8080/",
     "height": 212
    },
    "colab_type": "code",
    "executionInfo": {
     "elapsed": 2778,
     "status": "ok",
     "timestamp": 1556562366368,
     "user": {
      "displayName": "Николай Швецов",
      "photoUrl": "",
      "userId": "02626889693123806486"
     },
     "user_tz": -180
    },
    "id": "rWtEOMGSf_7_",
    "outputId": "39ac3446-5303-42aa-cdd2-6280739ba1b2"
   },
   "outputs": [
    {
     "name": "stdout",
     "output_type": "stream",
     "text": [
      "/content/gdrive/My Drive/Colab Notebooks/HW3\n",
      "\u001b[0m\u001b[01;34mBBBC018_v1_images-fixed\u001b[0m/                    homework03_part3_gan_basic.ipynb\n",
      "\u001b[01;34mBBBC018_v1_outlines\u001b[0m/                        \u001b[01;34mlfw\u001b[0m/\n",
      "data.zip                                    lfw_attributes.txt\n",
      "gan1.npz                                    lfw_dataset.py\n",
      "gan.npz                                     \u001b[01;34mlfw-deepfunneled\u001b[0m/\n",
      "homework03_part1_both.ipynb                 linear.png\n",
      "homework03_part2_autoencoders_basic.ipynb   \u001b[01;34m__pycache__\u001b[0m/\n",
      "homework03_part2_vae_advanced.ipynb         real.npz\n",
      "homework03_part3a_gan_advanced.ipynb        simple_1d_gan_pytorch.ipynb\n",
      "homework03_part3b_prd_score_advanced.ipynb  vae.npz\n"
     ]
    }
   ],
   "source": [
    "%cd /content/gdrive/My Drive/Colab Notebooks/HW3\n",
    "%ls"
   ]
  },
  {
   "cell_type": "code",
   "execution_count": 0,
   "metadata": {
    "colab": {},
    "colab_type": "code",
    "id": "RraAoQiJbCrg"
   },
   "outputs": [],
   "source": [
    "import math\n",
    "import numpy as np\n",
    "import matplotlib.pyplot as plt\n",
    "import matplotlib.lines as mlines\n",
    "import matplotlib"
   ]
  },
  {
   "cell_type": "code",
   "execution_count": 0,
   "metadata": {
    "colab": {},
    "colab_type": "code",
    "id": "UxjuYW6LbCrm"
   },
   "outputs": [],
   "source": [
    "CHANNEL_NUM = 3\n",
    "PICTURE_SIZE = 36\n"
   ]
  },
  {
   "cell_type": "code",
   "execution_count": 0,
   "metadata": {
    "colab": {},
    "colab_type": "code",
    "id": "doERiP3UbCrr"
   },
   "outputs": [],
   "source": [
    "class ParticleDataset():\n",
    "    def __init__(self, file):\n",
    "        self.data = np.load(file)\n",
    "        self.image = self.data['Pictures'].reshape(-1, CHANNEL_NUM*PICTURE_SIZE*PICTURE_SIZE)\n",
    "\n",
    "    def __len__(self):\n",
    "        return len(self.image)\n",
    "\n",
    "    def __getitem__(self, i):\n",
    "        return {\n",
    "            \"Pictures\": self.image[i],\n",
    "        }"
   ]
  },
  {
   "cell_type": "code",
   "execution_count": 0,
   "metadata": {
    "colab": {},
    "colab_type": "code",
    "id": "PdEAd0l4bCrx"
   },
   "outputs": [],
   "source": [
    "real_data = ParticleDataset('real.npz')\n",
    "vae_data = ParticleDataset('vae.npz')\n",
    "gan_data = ParticleDataset('gan1.npz')"
   ]
  },
  {
   "cell_type": "markdown",
   "metadata": {
    "colab_type": "text",
    "id": "OgN_L0lIbCr0"
   },
   "source": [
    "Make sure that the values of real and generated data are of the same order - it is important for cooperative binarizing"
   ]
  },
  {
   "cell_type": "code",
   "execution_count": 69,
   "metadata": {
    "colab": {
     "base_uri": "https://localhost:8080/",
     "height": 70
    },
    "colab_type": "code",
    "executionInfo": {
     "elapsed": 811,
     "status": "ok",
     "timestamp": 1556562472567,
     "user": {
      "displayName": "Николай Швецов",
      "photoUrl": "",
      "userId": "02626889693123806486"
     },
     "user_tz": -180
    },
    "id": "sG9oVXANbCr1",
    "outputId": "3c8168de-a255-4132-c4be-53f41e762a1e"
   },
   "outputs": [
    {
     "name": "stdout",
     "output_type": "stream",
     "text": [
      "0.0 1.0\n",
      "0.0 1.0\n",
      "-0.8294658720775064 1.7013868175754723\n"
     ]
    }
   ],
   "source": [
    "print (np.min(real_data.image), np.max(real_data.image))\n",
    "print (np.min(gan_data.image), np.max(gan_data.image))\n",
    "print (np.min(vae_data.image), np.max(vae_data.image))"
   ]
  },
  {
   "cell_type": "markdown",
   "metadata": {
    "colab_type": "text",
    "id": "1lfHg61ObCr6"
   },
   "source": [
    "# 1. Binarize# "
   ]
  },
  {
   "cell_type": "markdown",
   "metadata": {
    "colab_type": "text",
    "id": "vUiUkZAibCr8"
   },
   "source": [
    "To understand how real and generated objects are close to each other, we need to choose a space of features in which we look these objects at"
   ]
  },
  {
   "cell_type": "markdown",
   "metadata": {
    "colab_type": "text",
    "id": "K6ehzxsTbCr-"
   },
   "source": [
    "We go the easiest way and take pixels' values as features."
   ]
  },
  {
   "cell_type": "code",
   "execution_count": 0,
   "metadata": {
    "colab": {},
    "colab_type": "code",
    "id": "nsldV6IWbCr_"
   },
   "outputs": [],
   "source": [
    "#source https://github.com/msmsajjadi/precision-recall-distributions/blob/master/prd_score.py\n",
    "from sklearn.cluster import KMeans, MiniBatchKMeans\n",
    "import math\n",
    "import sklearn\n",
    "## function which map object to probability distribution ##\n",
    "\n",
    "def bin_counts (real_data, generated_data, number_of_bins=25):\n",
    "    cluster_data=np.vstack([real_data,generated_data])\n",
    "    kmeans = sklearn.cluster.MiniBatchKMeans(n_clusters=number_of_bins, n_init=10)\n",
    "    labels = kmeans.fit(cluster_data).labels_\n",
    "    eval_labels = labels[:len(real_data)]\n",
    "    ref_labels = labels[len(real_data):]\n",
    "    real_density = np.histogram(eval_labels, bins=number_of_bins,\n",
    "                           range=[0, number_of_bins], density=True)[0]\n",
    "    gen_density = np.histogram(ref_labels, bins=number_of_bins,\n",
    "                          range=[0, number_of_bins], density=True)[0]\n",
    "    # binirize real and generated data, plot histogram and found density function\n",
    "    return real_density, gen_density"
   ]
  },
  {
   "cell_type": "markdown",
   "metadata": {
    "colab_type": "text",
    "id": "0V5m8QuebCsE"
   },
   "source": [
    "Create $\\alpha-$ and $\\beta-$ vectors as in\n",
    "\n",
    "$\\hat{PRD}(Q,P) = \\{(\\alpha(\\lambda), \\beta(\\lambda))| \\lambda \\in \\Lambda \\}$, where $\\Lambda = \\{\\tan (\\frac{i}{m+1} \\frac{\\pi}{2}) | i = 1, 2 ... m\\}$"
   ]
  },
  {
   "cell_type": "code",
   "execution_count": 0,
   "metadata": {
    "colab": {},
    "colab_type": "code",
    "id": "bp92Q2sibCsF"
   },
   "outputs": [],
   "source": [
    "#source https://github.com/msmsajjadi/precision-recall-distributions/blob/master/prd_score.py\n",
    "def count_alpha_beta (real_density, gen_density, num_angles = 1000):\n",
    "    assert real_density.shape == gen_density.shape\n",
    "#     alpha_vec = []\n",
    "#     beta_vec = []\n",
    "    angles = np.linspace(1e-6, np.pi/2 - 1e-6, num=num_angles)\n",
    "    # you code\n",
    "    slopes = np.tan(angles)\n",
    "    slopes_2d=np.expand_dims(slopes,1)\n",
    "    \n",
    "    \n",
    "    slopes_2d = np.expand_dims(slopes, 1)\n",
    "\n",
    "  # Broadcast distributions so that first dimension represents the angles\n",
    "    ref_dist_2d = np.expand_dims(real_density, 0)\n",
    "    eval_dist_2d = np.expand_dims(gen_density, 0)\n",
    "\n",
    "  # Compute precision and recall for all angles in one step via broadcasting\n",
    "    alpha_vec = np.minimum(ref_dist_2d*slopes_2d, eval_dist_2d).sum(axis=1)\n",
    "    beta_vec = alpha_vec / slopes\n",
    "    alpha_vec=alpha_vec.ravel()\n",
    "    beta_vec=beta_vec.ravel()\n",
    "    return alpha_vec, beta_vec"
   ]
  },
  {
   "cell_type": "markdown",
   "metadata": {
    "colab_type": "text",
    "id": "sPu1NPCmbCsQ"
   },
   "source": [
    "For stability, take the average of several repetitions"
   ]
  },
  {
   "cell_type": "code",
   "execution_count": 0,
   "metadata": {
    "colab": {},
    "colab_type": "code",
    "id": "J4hezk0bbCsR"
   },
   "outputs": [],
   "source": [
    "def count_prd(reals, gens, repeat_number = 10):\n",
    "    vectors = [count_alpha_beta(reals, gens) for i in range(repeat_number)]\n",
    "    vectors = np.array(vectors).mean(axis=0)\n",
    "    print (vectors.shape)\n",
    "    return vectors"
   ]
  },
  {
   "cell_type": "markdown",
   "metadata": {
    "colab_type": "text",
    "id": "EXgUoeQEbCsW"
   },
   "source": [
    "## 2. Apply it##"
   ]
  },
  {
   "cell_type": "code",
   "execution_count": 0,
   "metadata": {
    "colab": {},
    "colab_type": "code",
    "id": "_XrXM1ldbCsY"
   },
   "outputs": [],
   "source": [
    "a, b = bin_counts(real_data.image, vae_data.image)\n",
    "c, d = bin_counts(real_data.image, gan_data.image)"
   ]
  },
  {
   "cell_type": "code",
   "execution_count": 84,
   "metadata": {
    "colab": {
     "base_uri": "https://localhost:8080/",
     "height": 407
    },
    "colab_type": "code",
    "executionInfo": {
     "elapsed": 1335,
     "status": "ok",
     "timestamp": 1556562903962,
     "user": {
      "displayName": "Николай Швецов",
      "photoUrl": "",
      "userId": "02626889693123806486"
     },
     "user_tz": -180
    },
    "id": "wa9y3-JZXBAa",
    "outputId": "9798267d-a639-4544-8057-d8ba906a9317"
   },
   "outputs": [
    {
     "data": {
      "text/plain": [
       "<matplotlib.legend.Legend at 0x7f43301da860>"
      ]
     },
     "execution_count": 84,
     "metadata": {
      "tags": []
     },
     "output_type": "execute_result"
    },
    {
     "data": {
      "image/png": "[encoded data removed]",
      "text/plain": [
       "<Figure size 1296x432 with 2 Axes>"
      ]
     },
     "metadata": {
      "tags": []
     },
     "output_type": "display_data"
    }
   ],
   "source": [
    "plt.figure(figsize=(18,6))\n",
    "plt.subplot(1,2,1)\n",
    "plt.hist(a,label='real')\n",
    "plt.hist(b,label='VAE')\n",
    "plt.title('VAE')\n",
    "plt.legend()\n",
    "plt.subplot(1,2,2)\n",
    "plt.hist(c,label='real')\n",
    "plt.hist(d,label='GAN')\n",
    "plt.title('GAN')\n",
    "plt.legend()"
   ]
  },
  {
   "cell_type": "markdown",
   "metadata": {
    "colab_type": "text",
    "id": "0Q9xCXzPbCsc"
   },
   "source": [
    "## 3. Make vectors for plot and plot ##"
   ]
  },
  {
   "cell_type": "code",
   "execution_count": 77,
   "metadata": {
    "colab": {
     "base_uri": "https://localhost:8080/",
     "height": 52
    },
    "colab_type": "code",
    "executionInfo": {
     "elapsed": 649,
     "status": "ok",
     "timestamp": 1556562569388,
     "user": {
      "displayName": "Николай Швецов",
      "photoUrl": "",
      "userId": "02626889693123806486"
     },
     "user_tz": -180
    },
    "id": "i8pp6qVlbCse",
    "outputId": "29617592-ac44-4e25-ec45-6aa7d59c1d00"
   },
   "outputs": [
    {
     "name": "stdout",
     "output_type": "stream",
     "text": [
      "(2, 1000)\n",
      "(2, 1000)\n"
     ]
    }
   ],
   "source": [
    "data_for_plots = count_prd(a, b)\n",
    "data_for_plots2 = count_prd(c, d)"
   ]
  },
  {
   "cell_type": "code",
   "execution_count": 78,
   "metadata": {
    "colab": {
     "base_uri": "https://localhost:8080/",
     "height": 525
    },
    "colab_type": "code",
    "executionInfo": {
     "elapsed": 937,
     "status": "ok",
     "timestamp": 1556562571178,
     "user": {
      "displayName": "Николай Швецов",
      "photoUrl": "",
      "userId": "02626889693123806486"
     },
     "user_tz": -180
    },
    "id": "fxohW_FqbCsi",
    "outputId": "005d72ac-2ad0-476e-aa48-34d57da2e251"
   },
   "outputs": [
    {
     "data": {
      "image/png": "[encoded data removed]",
      "text/plain": [
       "<Figure size 500x500 with 1 Axes>"
      ]
     },
     "metadata": {
      "tags": []
     },
     "output_type": "display_data"
    }
   ],
   "source": [
    "fig = plt.figure(figsize=(2.5, 2.5), dpi=200)\n",
    "fig.add_subplot(111).tick_params(axis='both', which='major', labelsize=8)\n",
    "plt.xlim([0, 1])\n",
    "plt.ylim([0, 1])\n",
    "plt.xlabel('Recall', fontsize=12)\n",
    "plt.ylabel('Precision', fontsize=12)\n",
    "plt.plot(data_for_plots[0], data_for_plots[1], label = \"VAE\")\n",
    "plt.plot(data_for_plots2[0], data_for_plots2[1], label = \"GAN\")\n",
    "plt.legend()\n",
    "plt.show()"
   ]
  },
  {
   "cell_type": "markdown",
   "metadata": {
    "colab_type": "text",
    "id": "JVHgPp-qbCsm"
   },
   "source": [
    "**What curves were obtained for the first(VAE) and the second(GAN) models? What can we say about the advantages and disadvantages of each model?**"
   ]
  },
  {
   "cell_type": "markdown",
   "metadata": {
    "colab": {},
    "colab_type": "code",
    "id": "1NWwmqu2bCsn"
   },
   "source": [
    "#type answer here\n",
    "According to this plot, we can see that GAN show better Precision in the same recall level as VAE. \n",
    "\n",
    "**VAE** advantages:\n",
    "-it is often necessary to change or investigate data options. In this case, VAEs work better than any other currently available method.\n",
    "**GAN advantages**:\n",
    "-Generative adversarial networks were designed to avoid using Markov chains because of the high computational cost of the latter.\n",
    "-relative to Boltzmann machines is that the Generator function has much fewer restrictions (there are only a few probability distributions that admit Markov chain sampling)."
   ]
  },
  {
   "cell_type": "markdown",
   "metadata": {
    "colab_type": "text",
    "collapsed": true,
    "id": "zNif9aFnbCst"
   },
   "source": [
    "## Bonus: about features' space##\n",
    "\n",
    "It is possible to transfer the picture-> embedding, for example, using the 1st part of the Inception network as a feature extraxtor. This embedding can be used for bin counts also"
   ]
  },
  {
   "cell_type": "code",
   "execution_count": 0,
   "metadata": {
    "colab": {},
    "colab_type": "code",
    "id": "qMxBWWRhbCsu"
   },
   "outputs": [],
   "source": [
    "# if you came here and still alive, the implementation of idea above will give you extra points =)\n"
   ]
  }
 ],
 "metadata": {
  "colab": {
   "name": "homework03_part3b_prd_score_advanced.ipynb",
   "provenance": [],
   "version": "0.3.2"
  },
  "kernelspec": {
   "display_name": "Python 3",
   "language": "python",
   "name": "python3"
  },
  "language_info": {
   "codemirror_mode": {
    "name": "ipython",
    "version": 3
   },
   "file_extension": ".py",
   "mimetype": "text/x-python",
   "name": "python",
   "nbconvert_exporter": "python",
   "pygments_lexer": "ipython3",
   "version": "3.6.5"
  }
 },
 "nbformat": 4,
 "nbformat_minor": 1
}
