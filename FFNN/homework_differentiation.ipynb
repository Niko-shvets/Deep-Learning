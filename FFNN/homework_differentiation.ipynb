{
 "cells": [
  {
   "cell_type": "markdown",
   "metadata": {},
   "source": [
    "# Homework 1: Differentiation"
   ]
  },
  {
   "cell_type": "markdown",
   "metadata": {},
   "source": [
    "Since it easy to google every task please please please try to undestand what's going on. The \"just answer\" thing will be not counted, make sure to present derivation of your solution. It is absolutely OK if you found an answer on web then just exercise in $\\LaTeX$ copying it into here. A good way to derive solutions for these tasks is to derive it for single elements and then generalize to the resulting matrix/vector."
   ]
  },
  {
   "cell_type": "markdown",
   "metadata": {},
   "source": [
    "Useful links: \n",
    "[1](http://www.machinelearning.ru/wiki/images/2/2a/Matrix-Gauss.pdf)\n",
    "[2](http://www.atmos.washington.edu/~dennis/MatrixCalculus.pdf)\n",
    "[3](http://cal.cs.illinois.edu/~johannes/research/matrix%20calculus.pdf)"
   ]
  },
  {
   "cell_type": "markdown",
   "metadata": {},
   "source": [
    "## ex. 1"
   ]
  },
  {
   "cell_type": "markdown",
   "metadata": {},
   "source": [
    "Scalar w.r.t. vector:\n",
    "$$  \n",
    "y = c^Tx,  \\quad x \\in \\mathbb{R}^N \n",
    "$$"
   ]
  },
  {
   "cell_type": "markdown",
   "metadata": {},
   "source": [
    "$$\n",
    "\\frac{dy}{dx} = \n",
    "$$ "
   ]
  },
  {
   "cell_type": "markdown",
   "metadata": {
    "collapsed": true
   },
   "source": [
    "So, $$y=\\sum_{i=1}^{N}c_i^T x_i$$ then $$\\frac{dy}{dx_i}=c_i$$ and finally $$ \\frac{dy}{dx}=c$$"
   ]
  },
  {
   "cell_type": "markdown",
   "metadata": {},
   "source": [
    "## ex. 2"
   ]
  },
  {
   "cell_type": "markdown",
   "metadata": {},
   "source": [
    "Vector w.r.t. vector:\n",
    "$$ y = \\sum_{j=1}^{N} cx^T \\quad c \\in \\mathbb{R}^{M} ,x \\in \\mathbb{R}^{N}, cx^T \\in \\mathbb{R}^{M \\times N} $$ "
   ]
  },
  {
   "cell_type": "markdown",
   "metadata": {},
   "source": [
    "$$\n",
    "\\frac{dy}{dx} =\n",
    "$$"
   ]
  },
  {
   "cell_type": "markdown",
   "metadata": {
    "collapsed": true
   },
   "source": [
    "Lets see, x-vector-column, then $x^T$ it is vector-string.\n",
    "So, $$\\sum_{j=1}^{N}cx^T =\\begin{pmatrix} c_1x_1 & c_1x_2 & c_1x_3 &\\cdots & c_1x_n \\\\ c_2x_1 & c_2x_2 & c_2x_3 &\\cdots & c_2x_n\\\\ \\vdots & \\vdots & \\vdots &\\vdots & \\cdots\\\\ c_mx_1 & c_mx_2 & c_mx_3 &\\cdots & c_mx_n\\end{pmatrix}=\\begin{pmatrix}c_1\\sum_{i=1}^{N} x_i\\\\c_2\\sum_{i=1}^{N}x_i\\\\c_3\\sum_{i=1}^{N}x_i\\\\ \\vdots\\\\c_m\\sum_{i=1}^{N}x_i \\\\\\end{pmatrix}$$\n",
    "\n",
    "so, $$\\frac{dy}{dx} =\\begin{pmatrix} c_1 & c_1 & c_1 & \\cdots & c_1 \\\\ c_2 & c_2 & c_2 &\\cdots & c_2\\\\ \\vdots & \\vdots & \\vdots &\\cdots & \\vdots\\\\ c_m & c_m & c_m &\\cdots & c_m\\end{pmatrix}$$"
   ]
  },
  {
   "cell_type": "markdown",
   "metadata": {},
   "source": [
    "## ex. 3"
   ]
  },
  {
   "cell_type": "markdown",
   "metadata": {},
   "source": [
    "Vector w.r.t. vector:\n",
    "$$  \n",
    "y = x x^T x , x \\in \\mathbb{R}^{N}\n",
    "$$\n",
    "\n",
    "$$\n",
    "\\frac{dy}{dx} =\n",
    "$$"
   ]
  },
  {
   "cell_type": "markdown",
   "metadata": {
    "collapsed": true
   },
   "source": [
    "assume, that $x$ is a column-vector, then $x^T$ is row-vector\n",
    "so, $$xx^Tx$$ will be look:\n",
    "\n",
    "$$\\begin{pmatrix} x_1 \\\\ x_2\\\\ \\vdots \\\\ x_n\\end{pmatrix}*[x_1,x_2...x_n]*\\begin{pmatrix} x_1 \\\\ x_2\\\\ \\vdots \\\\ x_n\\end{pmatrix}$$\n",
    "\n",
    "then $xx^Tx =\\begin{pmatrix} x_1^3 & x_1x_2^2 & \\cdots & x_1x_n^2 \\\\ x_2x_1^2 & x_2^3 & \\cdots & x_2x_n^2\\\\ \\vdots & \\vdots & \\cdots &\\vdots \\\\ x_nx_1^2 & x_nx_2^2 &\\cdots & x_n^3\\end{pmatrix}$\n",
    "\n",
    "Then\n",
    "\n",
    "$$\\frac{dy}{dx} = \\begin{pmatrix} 3x_1^2 & 2x_1x_2 & \\cdots & 2x_1x_n \\\\ 2x_2x_1 & 3x_2^2 & \\cdots & 2x_2x_n\\\\ \\vdots & \\vdots & \\cdots &\\vdots \\\\ 2x_nx_1 & 2x_nx_2 &\\cdots & 3x_n^2\\end{pmatrix}$$"
   ]
  },
  {
   "cell_type": "markdown",
   "metadata": {},
   "source": [
    "## ex. 4"
   ]
  },
  {
   "cell_type": "markdown",
   "metadata": {},
   "source": [
    "Derivatives for the parameters of the Dense layer:\n",
    "\n",
    "***Given :***  $$Y = XW, Y \\in \\mathbb{R}^{N \\times OUT}, X \\in \\mathbb{R}^{N \\times IN}, W \\in \\mathbb{R}^{IN \\times OUT} $$ \n",
    "\n",
    "The derivative of the hypothetic loss function w.r.t. to $Y$ is known: $\\Delta Y  \\in \\mathbb{R}^{N \\times OUT}$\n",
    "\n",
    "***Task :*** Please, derive the gradients of the loss w.r.t the weight matrix $W$: $\\Delta W  \\in \\mathbb{R}^{IN \\times OUT}$. Use the chain rule. First, please, derive each element of the $\\Delta W$, then generalize to the matrix form.\n",
    " \n",
    "Useful link: http://cs231n.stanford.edu/vecDerivs.pdf\n"
   ]
  },
  {
   "cell_type": "markdown",
   "metadata": {
    "collapsed": true
   },
   "source": [
    "So, $$y_i=\\sum_{j}^{IN}x_iW_{ig}$$\n",
    "we know that, $$\\frac{dy_i}{dW_{ij}}=x_i $$\n",
    "so, $$\\frac{dY}{dW}=X$$, this mean that $\\Delta W=X^T\\Delta Y$"
   ]
  },
  {
   "cell_type": "code",
   "execution_count": null,
   "metadata": {},
   "outputs": [],
   "source": []
  }
 ],
 "metadata": {
  "kernelspec": {
   "display_name": "Python 3",
   "language": "python",
   "name": "python3"
  },
  "language_info": {
   "codemirror_mode": {
    "name": "ipython",
    "version": 3
   },
   "file_extension": ".py",
   "mimetype": "text/x-python",
   "name": "python",
   "nbconvert_exporter": "python",
   "pygments_lexer": "ipython3",
   "version": "3.6.5"
  }
 },
 "nbformat": 4,
 "nbformat_minor": 1
}
